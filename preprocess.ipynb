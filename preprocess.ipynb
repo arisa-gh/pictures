{
  "nbformat": 4,
  "nbformat_minor": 0,
  "metadata": {
    "colab": {
      "name": "preprocess.ipynb",
      "provenance": [],
      "authorship_tag": "ABX9TyOfS06jxnYGlm7I7lTGgjOd",
      "include_colab_link": true
    },
    "kernelspec": {
      "name": "python3",
      "display_name": "Python 3"
    }
  },
  "cells": [
    {
      "cell_type": "markdown",
      "metadata": {
        "id": "view-in-github",
        "colab_type": "text"
      },
      "source": [
        "<a href=\"https://colab.research.google.com/github/arisa-gh/pictures/blob/reference/preprocess.ipynb\" target=\"_parent\"><img src=\"https://colab.research.google.com/assets/colab-badge.svg\" alt=\"Open In Colab\"/></a>"
      ]
    },
    {
      "cell_type": "code",
      "metadata": {
        "id": "FNGuWLuEZiP9",
        "colab_type": "code",
        "colab": {
          "base_uri": "https://localhost:8080/",
          "height": 126
        },
        "outputId": "311ff39b-83d8-4479-c5ad-5c9570705144"
      },
      "source": [
        "from google.colab import drive\n",
        "drive.mount('/content/gdrive')"
      ],
      "execution_count": null,
      "outputs": [
        {
          "output_type": "stream",
          "text": [
            "Go to this URL in a browser: https://accounts.google.com/o/oauth2/auth?client_id=947318989803-6bn6qk8qdgf4n4g3pfee6491hc0brc4i.apps.googleusercontent.com&redirect_uri=urn%3aietf%3awg%3aoauth%3a2.0%3aoob&scope=email%20https%3a%2f%2fwww.googleapis.com%2fauth%2fdocs.test%20https%3a%2f%2fwww.googleapis.com%2fauth%2fdrive%20https%3a%2f%2fwww.googleapis.com%2fauth%2fdrive.photos.readonly%20https%3a%2f%2fwww.googleapis.com%2fauth%2fpeopleapi.readonly&response_type=code\n",
            "\n",
            "Enter your authorization code:\n",
            "··········\n",
            "Mounted at /content/gdrive\n"
          ],
          "name": "stdout"
        }
      ]
    },
    {
      "cell_type": "code",
      "metadata": {
        "id": "_s9io0N_W4uR",
        "colab_type": "code",
        "colab": {
          "base_uri": "https://localhost:8080/",
          "height": 266
        },
        "outputId": "61f5139b-1dbc-43db-92b4-34a4eee5b1e4"
      },
      "source": [
        "!ls ./gdrive/'My Drive'/'Colab Notebooks'"
      ],
      "execution_count": null,
      "outputs": [
        {
          "output_type": "stream",
          "text": [
            " engine_data課題_加藤有紗.ipynb\n",
            " gearbox.ipynb\n",
            " ic_module.py\n",
            " preprocess.ipynb\n",
            " student_handson_anomaly_detection_v3.ipynb\n",
            " TA_AnomDetec_matome.ipynb\n",
            " TA_engine.ipynb\n",
            " teacher_handson_anomaly_detection_hotelling.ipynb\n",
            "'teacher_handson_anomaly_detection_v3(IsolationForest).ipynb'\n",
            "'teacher_handson_anomaly_detection_v3(LOF) (2).ipynb'\n",
            "'teacher_handson_anomaly_detection_v3(LOF).ipynb'\n",
            " Untitled0.ipynb\n",
            " データセット作成.ipynb\n",
            " 画像収集.ipynb\n"
          ],
          "name": "stdout"
        }
      ]
    },
    {
      "cell_type": "code",
      "metadata": {
        "id": "99ZWK0rTZtw8",
        "colab_type": "code",
        "colab": {
          "base_uri": "https://localhost:8080/",
          "height": 266
        },
        "outputId": "55d3afbe-3872-4d2d-ad6d-df48504ac3aa"
      },
      "source": [
        "import os\n",
        "\n",
        "base_dir = '/content/gdrive/My Drive/Colab Notebooks'\n",
        "os.listdir(base_dir)"
      ],
      "execution_count": null,
      "outputs": [
        {
          "output_type": "execute_result",
          "data": {
            "text/plain": [
              "['teacher_handson_anomaly_detection_hotelling.ipynb',\n",
              " 'teacher_handson_anomaly_detection_v3(LOF).ipynb',\n",
              " 'teacher_handson_anomaly_detection_v3(LOF) (2).ipynb',\n",
              " 'teacher_handson_anomaly_detection_v3(IsolationForest).ipynb',\n",
              " 'TA_engine.ipynb',\n",
              " 'TA_AnomDetec_matome.ipynb',\n",
              " 'student_handson_anomaly_detection_v3.ipynb',\n",
              " 'engine_data課題_加藤有紗.ipynb',\n",
              " 'gearbox.ipynb',\n",
              " 'Untitled0.ipynb',\n",
              " '画像収集.ipynb',\n",
              " 'データセット作成.ipynb',\n",
              " 'ic_module.py',\n",
              " 'preprocess.ipynb']"
            ]
          },
          "metadata": {
            "tags": []
          },
          "execution_count": 7
        }
      ]
    },
    {
      "cell_type": "code",
      "metadata": {
        "id": "_LTOcfDeQf6L",
        "colab_type": "code",
        "colab": {
          "base_uri": "https://localhost:8080/",
          "height": 159
        },
        "outputId": "7f740f94-5dfb-485e-d199-65012cc5ce44"
      },
      "source": [
        "import sys\n",
        "sys.path.append('/content/gdrive/My Drive/pictures')\n",
        "\n",
        "import ic_module as ic\n",
        "\n",
        "import importlib\n",
        "importlib.reload(ic)\n",
        "\n",
        "import os.path as op\n",
        "\n",
        "i = 0\n",
        "for filename in ic.FileNames :\n",
        "    # ディレクトリ名入力\n",
        "    while True :\n",
        "        dirname = input(\">>「\" + ic.ClassNames[i] + \"」の画像のあるディレクトリ ： \")\n",
        "        if op.isdir(dirname) :\n",
        "            break\n",
        "        print(\">> そのディレクトリは存在しません！\")\n",
        "\n",
        "    # 関数実行\n",
        "    ic.PreProcess(dirname, filename, var_amount=3)\n",
        "    i += 1"
      ],
      "execution_count": 14,
      "outputs": [
        {
          "output_type": "stream",
          "text": [
            ">>「山下美月」の画像のあるディレクトリ ： 山下美月\n",
            ">> そのディレクトリは存在しません！\n",
            ">>「山下美月」の画像のあるディレクトリ ： /content/gdrive/My Drive/pictures/face/山下美月\n",
            ">> /content/gdrive/My Drive/pictures/face/山下美月から44個のファイル読み込み成功\n",
            ">>「橋本環奈」の画像のあるディレクトリ ： /content/gdrive/My Drive/pictures/face/橋本環奈\n",
            ">> /content/gdrive/My Drive/pictures/face/橋本環奈から52個のファイル読み込み成功\n",
            ">>「白石麻衣」の画像のあるディレクトリ ： /content/gdrive/My Drive/pictures/face/白石麻衣\n",
            ">> /content/gdrive/My Drive/pictures/face/白石麻衣から48個のファイル読み込み成功\n"
          ],
          "name": "stdout"
        }
      ]
    },
    {
      "cell_type": "code",
      "metadata": {
        "id": "jAjp2MNRZv01",
        "colab_type": "code",
        "colab": {}
      },
      "source": [
        ""
      ],
      "execution_count": null,
      "outputs": []
    }
  ]
}