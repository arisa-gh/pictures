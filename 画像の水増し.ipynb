{
  "nbformat": 4,
  "nbformat_minor": 0,
  "metadata": {
    "colab": {
      "name": "画像の水増し.ipynb",
      "provenance": [],
      "authorship_tag": "ABX9TyNDu6oj88TNY+IsVN7vnPSk",
      "include_colab_link": true
    },
    "kernelspec": {
      "name": "python3",
      "display_name": "Python 3"
    }
  },
  "cells": [
    {
      "cell_type": "markdown",
      "metadata": {
        "id": "view-in-github",
        "colab_type": "text"
      },
      "source": [
        "<a href=\"https://colab.research.google.com/github/arisa-gh/pictures/blob/master/%E7%94%BB%E5%83%8F%E3%81%AE%E6%B0%B4%E5%A2%97%E3%81%97.ipynb\" target=\"_parent\"><img src=\"https://colab.research.google.com/assets/colab-badge.svg\" alt=\"Open In Colab\"/></a>"
      ]
    },
    {
      "cell_type": "markdown",
      "metadata": {
        "id": "tZC8kkK6fGD2",
        "colab_type": "text"
      },
      "source": [
        "# 画像の水増しします"
      ]
    },
    {
      "cell_type": "code",
      "metadata": {
        "id": "zuuZCzlFfYty",
        "colab_type": "code",
        "colab": {
          "base_uri": "https://localhost:8080/",
          "height": 52
        },
        "outputId": "ce6543b8-8884-4f33-b902-fee1fff97070"
      },
      "source": [
        "# 画像を保存するフォルダに移動\n",
        "# pathは適宜変える\n",
        "%cd gdrive/My Drive/pictures/original_data\n",
        "!pwd"
      ],
      "execution_count": 10,
      "outputs": [
        {
          "output_type": "stream",
          "text": [
            "/content/gdrive/My Drive/pictures/original_data\n",
            "/content/gdrive/My Drive/pictures/original_data\n"
          ],
          "name": "stdout"
        }
      ]
    },
    {
      "cell_type": "code",
      "metadata": {
        "id": "Sej4JBXNUYNC",
        "colab_type": "code",
        "colab": {
          "base_uri": "https://localhost:8080/",
          "height": 207
        },
        "outputId": "8818ed7b-ae16-4b77-8761-88f1cad51ef4"
      },
      "source": [
        "%matplotlib inline\n",
        "\n",
        "\n",
        "import cv2\n",
        "import matplotlib.pyplot as plt\n",
        "import matplotlib.image as mpimg\n",
        "import sys\n",
        "from keras.preprocessing.image import array_to_img,img_to_array,load_img\n",
        "import numpy as np\n",
        "import os\n",
        "\n",
        "\n",
        "X_train=[]\n",
        "Y_train=[]\n",
        "\n",
        "X_test=[]\n",
        "Y_test=[]\n",
        "\n",
        "Mydrive = \"/content/drive/My Drive/pictures\"\n",
        "\n",
        "l=os.listdir(Mydrive + \"/original_data\")"
      ],
      "execution_count": 7,
      "outputs": [
        {
          "output_type": "error",
          "ename": "FileNotFoundError",
          "evalue": "ignored",
          "traceback": [
            "\u001b[0;31m---------------------------------------------------------------------------\u001b[0m",
            "\u001b[0;31mFileNotFoundError\u001b[0m                         Traceback (most recent call last)",
            "\u001b[0;32m<ipython-input-7-e80b405b0576>\u001b[0m in \u001b[0;36m<module>\u001b[0;34m()\u001b[0m\n\u001b[1;32m     19\u001b[0m \u001b[0mMydrive\u001b[0m \u001b[0;34m=\u001b[0m \u001b[0;34m\"/content/drive/My Drive/pictures\"\u001b[0m\u001b[0;34m\u001b[0m\u001b[0;34m\u001b[0m\u001b[0m\n\u001b[1;32m     20\u001b[0m \u001b[0;34m\u001b[0m\u001b[0m\n\u001b[0;32m---> 21\u001b[0;31m \u001b[0ml\u001b[0m\u001b[0;34m=\u001b[0m\u001b[0mos\u001b[0m\u001b[0;34m.\u001b[0m\u001b[0mlistdir\u001b[0m\u001b[0;34m(\u001b[0m\u001b[0mMydrive\u001b[0m \u001b[0;34m+\u001b[0m \u001b[0;34m\"/original_data\"\u001b[0m\u001b[0;34m)\u001b[0m\u001b[0;34m\u001b[0m\u001b[0;34m\u001b[0m\u001b[0m\n\u001b[0m",
            "\u001b[0;31mFileNotFoundError\u001b[0m: [Errno 2] No such file or directory: '/content/drive/My Drive/pictures/original_data'"
          ]
        }
      ]
    },
    {
      "cell_type": "code",
      "metadata": {
        "id": "7yg5qEIcUILw",
        "colab_type": "code",
        "colab": {
          "base_uri": "https://localhost:8080/",
          "height": 243
        },
        "outputId": "591e1e1b-cd2c-45b6-f38a-e73a20c71f80"
      },
      "source": [
        "\n",
        "# https://github.com/opencv/opencv/tree/master/data/haarcascades\n",
        "# https://raw.githubusercontent.com/opencv/opencv/master/data/haarcascades/haarcascade_frontalface_alt.xml\n",
        "cascade_path=Mydrive+\"/haarcascade_frontalface_alt.xml\"\n",
        "\n",
        "for i in l:\n",
        "    result_dir=i.split(\".\")[0]\n",
        "    print(result_dir)\n",
        "    # os.mkdir(Mydrive + \"/face/\"+result_dir)\n",
        "    os.makedirs(Mydrive + \"/face/\"+result_dir, exist_ok=True)\n",
        "\n",
        "    m=os.listdir(Mydrive + \"/original_data/\"+i)\n",
        "    n=0\n",
        "    for target_file in m:\n",
        "        origin_image=(Mydrive + \"/original_data/\"+i+\"/\"+target_file)\n",
        "        print(origin_image)\n",
        "        cascade=cv2.CascadeClassifier(cascade_path)\n",
        "        image=cv2.imread(origin_image)\n",
        "\n",
        "        image=cv2.cvtColor(image,cv2.COLOR_BGR2RGB)\n",
        "        gray=cv2.cvtColor(image,cv2.COLOR_RGB2GRAY)\n",
        "        plt.imshow(gray)\n",
        "\n",
        "        facerect=cascade.detectMultiScale(gray,scaleFactor=1.1,minNeighbors=1,minSize=(10,10))\n",
        "\n",
        "        for x,y,w,h in facerect:\n",
        "            face=gray[y:y+h,x:x+w]\n",
        "            face=cv2.resize(face,(128,128))\n",
        "            save_path=Mydrive + \"/face/\"+result_dir+\"/image_\"+str(n)+\".jpg\"\n",
        "            cv2.imwrite(save_path,face)\n",
        "            n=n+1\n",
        "            face=cv2.flip(face,1)\n",
        "            save_path=Mydrive + \"/face/\"+result_dir+\"/image_\"+str(n)+\".jpg\"\n",
        "            cv2.imwrite(save_path,face)\n",
        "            n=n+1\n",
        "            face=cv2.blur(face,(10,10))\n",
        "            save_path=Mydrive + \"/face/\"+result_dir+\"/image_\"+str(n)+\".jpg\"\n",
        "            cv2.imwrite(save_path,face)\n",
        "            n=n+1\n",
        "            face=cv2.blur(cv2.flip(face,1),(10,10))\n",
        "            save_path=Mydrive + \"/face/\"+result_dir+\"/image_\"+str(n)+\".jpg\"\n",
        "            cv2.imwrite(save_path,face)\n",
        "            n=n+1"
      ],
      "execution_count": 8,
      "outputs": [
        {
          "output_type": "error",
          "ename": "NameError",
          "evalue": "ignored",
          "traceback": [
            "\u001b[0;31m---------------------------------------------------------------------------\u001b[0m",
            "\u001b[0;31mNameError\u001b[0m                                 Traceback (most recent call last)",
            "\u001b[0;32m<ipython-input-8-4c93dcaf20eb>\u001b[0m in \u001b[0;36m<module>\u001b[0;34m()\u001b[0m\n\u001b[1;32m      4\u001b[0m \u001b[0mcascade_path\u001b[0m\u001b[0;34m=\u001b[0m\u001b[0mMydrive\u001b[0m\u001b[0;34m+\u001b[0m\u001b[0;34m\"/haarcascade_frontalface_alt.xml\"\u001b[0m\u001b[0;34m\u001b[0m\u001b[0;34m\u001b[0m\u001b[0m\n\u001b[1;32m      5\u001b[0m \u001b[0;34m\u001b[0m\u001b[0m\n\u001b[0;32m----> 6\u001b[0;31m \u001b[0;32mfor\u001b[0m \u001b[0mi\u001b[0m \u001b[0;32min\u001b[0m \u001b[0ml\u001b[0m\u001b[0;34m:\u001b[0m\u001b[0;34m\u001b[0m\u001b[0;34m\u001b[0m\u001b[0m\n\u001b[0m\u001b[1;32m      7\u001b[0m     \u001b[0mresult_dir\u001b[0m\u001b[0;34m=\u001b[0m\u001b[0mi\u001b[0m\u001b[0;34m.\u001b[0m\u001b[0msplit\u001b[0m\u001b[0;34m(\u001b[0m\u001b[0;34m\".\"\u001b[0m\u001b[0;34m)\u001b[0m\u001b[0;34m[\u001b[0m\u001b[0;36m0\u001b[0m\u001b[0;34m]\u001b[0m\u001b[0;34m\u001b[0m\u001b[0;34m\u001b[0m\u001b[0m\n\u001b[1;32m      8\u001b[0m     \u001b[0mprint\u001b[0m\u001b[0;34m(\u001b[0m\u001b[0mresult_dir\u001b[0m\u001b[0;34m)\u001b[0m\u001b[0;34m\u001b[0m\u001b[0;34m\u001b[0m\u001b[0m\n",
            "\u001b[0;31mNameError\u001b[0m: name 'l' is not defined"
          ]
        }
      ]
    },
    {
      "cell_type": "code",
      "metadata": {
        "id": "iWsyf5WoQg1r",
        "colab_type": "code",
        "colab": {}
      },
      "source": [
        ""
      ],
      "execution_count": null,
      "outputs": []
    }
  ]
}