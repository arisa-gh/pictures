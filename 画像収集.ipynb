{
  "nbformat": 4,
  "nbformat_minor": 0,
  "metadata": {
    "colab": {
      "name": "画像収集.ipynb",
      "provenance": [],
      "mount_file_id": "1du1CsaAItB_1rA-kFZek-dAWAvUCuYDZ",
      "authorship_tag": "ABX9TyNum3S75oLy55pKCezxwF7l",
      "include_colab_link": true
    },
    "kernelspec": {
      "name": "python3",
      "display_name": "Python 3"
    }
  },
  "cells": [
    {
      "cell_type": "markdown",
      "metadata": {
        "id": "view-in-github",
        "colab_type": "text"
      },
      "source": [
        "<a href=\"https://colab.research.google.com/github/arisa-gh/pictures/blob/master/%E7%94%BB%E5%83%8F%E5%8F%8E%E9%9B%86.ipynb\" target=\"_parent\"><img src=\"https://colab.research.google.com/assets/colab-badge.svg\" alt=\"Open In Colab\"/></a>"
      ]
    },
    {
      "cell_type": "code",
      "metadata": {
        "id": "X34HMTAXJFk4",
        "colab_type": "code",
        "colab": {
          "base_uri": "https://localhost:8080/",
          "height": 268
        },
        "outputId": "cf5bd6b5-c5b4-41ec-dd55-32e7b9f3cc56"
      },
      "source": [
        "!pip install icrawler"
      ],
      "execution_count": 1,
      "outputs": [
        {
          "output_type": "stream",
          "text": [
            "Collecting icrawler\n",
            "  Downloading https://files.pythonhosted.org/packages/89/de/71d154b1fe181ee1a4afae5d10451856ef4689b3fd72d93cc55f31d2886a/icrawler-0.6.3-py2.py3-none-any.whl\n",
            "Requirement already satisfied: requests>=2.9.1 in /usr/local/lib/python3.6/dist-packages (from icrawler) (2.23.0)\n",
            "Requirement already satisfied: lxml in /usr/local/lib/python3.6/dist-packages (from icrawler) (4.2.6)\n",
            "Requirement already satisfied: six>=1.10.0 in /usr/local/lib/python3.6/dist-packages (from icrawler) (1.15.0)\n",
            "Requirement already satisfied: Pillow in /usr/local/lib/python3.6/dist-packages (from icrawler) (7.0.0)\n",
            "Requirement already satisfied: beautifulsoup4>=4.4.1 in /usr/local/lib/python3.6/dist-packages (from icrawler) (4.6.3)\n",
            "Requirement already satisfied: chardet<4,>=3.0.2 in /usr/local/lib/python3.6/dist-packages (from requests>=2.9.1->icrawler) (3.0.4)\n",
            "Requirement already satisfied: idna<3,>=2.5 in /usr/local/lib/python3.6/dist-packages (from requests>=2.9.1->icrawler) (2.10)\n",
            "Requirement already satisfied: certifi>=2017.4.17 in /usr/local/lib/python3.6/dist-packages (from requests>=2.9.1->icrawler) (2020.6.20)\n",
            "Requirement already satisfied: urllib3!=1.25.0,!=1.25.1,<1.26,>=1.21.1 in /usr/local/lib/python3.6/dist-packages (from requests>=2.9.1->icrawler) (1.24.3)\n",
            "Installing collected packages: icrawler\n",
            "Successfully installed icrawler-0.6.3\n"
          ],
          "name": "stdout"
        }
      ]
    },
    {
      "cell_type": "code",
      "metadata": {
        "id": "o_Aj1GcYXc-E",
        "colab_type": "code",
        "colab": {
          "base_uri": "https://localhost:8080/",
          "height": 52
        },
        "outputId": "34fe956d-898a-4e93-97a8-6fd405afac30"
      },
      "source": [
        "# 画像を保存するフォルダに移動\n",
        "# pathは適宜変える\n",
        "%cd drive/My Drive/pictures/original_data\n",
        "!pwd"
      ],
      "execution_count": 2,
      "outputs": [
        {
          "output_type": "stream",
          "text": [
            "/content/drive/My Drive/pictures/original_data\n",
            "/content/drive/My Drive/pictures/original_data\n"
          ],
          "name": "stdout"
        }
      ]
    },
    {
      "cell_type": "code",
      "metadata": {
        "id": "oNocRvCkXuNn",
        "colab_type": "code",
        "colab": {
          "base_uri": "https://localhost:8080/",
          "height": 1000
        },
        "outputId": "4f02adab-001b-4209-8561-e2653d9858c5"
      },
      "source": [
        "# こんな感じで書く。枚数は、max_numで指定する。\n",
        "# from icrawler.builtin import BingImageCrawler\n",
        "# crawler = BingImageCrawler(storage={\"root_dir\": \"ここと\"})\n",
        "# crawler.crawl(keyword=\"ここを変えるt\", max_num=20)\n",
        "\n",
        "from icrawler.builtin import BingImageCrawler\n",
        "crawler = BingImageCrawler(storage={\"root_dir\": \"山下美月\"})\n",
        "crawler.crawl(keyword=\"山下美月\", max_num=20)\n",
        "\n",
        "from icrawler.builtin import BingImageCrawler\n",
        "crawler = BingImageCrawler(storage={\"root_dir\": \"橋本環奈\"})\n",
        "crawler.crawl(keyword=\"橋本環奈\", max_num=20)\n",
        "\n",
        "from icrawler.builtin import BingImageCrawler\n",
        "crawler = BingImageCrawler(storage={\"root_dir\": \"白石麻衣\"})\n",
        "crawler.crawl(keyword=\"白石麻衣\", max_num=20)"
      ],
      "execution_count": 4,
      "outputs": [
        {
          "output_type": "stream",
          "text": [
            "2020-08-26 06:08:13,791 - INFO - icrawler.crawler - start crawling...\n",
            "2020-08-26 06:08:13,793 - INFO - icrawler.crawler - starting 1 feeder threads...\n",
            "2020-08-26 06:08:13,798 - INFO - feeder - thread feeder-001 exit\n",
            "2020-08-26 06:08:13,799 - INFO - icrawler.crawler - starting 1 parser threads...\n",
            "2020-08-26 06:08:13,803 - INFO - icrawler.crawler - starting 1 downloader threads...\n",
            "2020-08-26 06:08:14,315 - INFO - parser - parsing result page https://www.bing.com/images/async?q=山下美月&first=0\n",
            "2020-08-26 06:08:14,885 - INFO - downloader - image #1\thttps://gitee.com/wqdev/image20190405/raw/master/0510/19050957.jpg\n",
            "2020-08-26 06:08:15,209 - INFO - downloader - image #2\thttp://g.hiphotos.baidu.com/baike/w%3D268%3Bg%3D0/sign=d4e31a1a788b4710ce2ffacafbf5a4c0/1b4c510fd9f9d72a0e1bf226de2a2834349bbb8a.jpg\n",
            "2020-08-26 06:08:16,197 - INFO - downloader - image #3\thttps://i1.wp.com/koimousagi.com/wp-content/uploads/2019/06/yamasitamiduki_lespros-e1561225155922.jpg\n",
            "2020-08-26 06:08:16,600 - INFO - downloader - image #4\thttps://s-media-cache-ak0.pinimg.com/originals/b5/da/8c/b5da8ca7f48b07bbeb9f9a58394f761e.jpg\n",
            "2020-08-26 06:08:16,774 - ERROR - downloader - Exception caught when downloading file https://ii.hywly.com/t/5347.jpg, error: HTTPSConnectionPool(host='ii.hywly.com', port=443): Max retries exceeded with url: /t/5347.jpg (Caused by NewConnectionError('<urllib3.connection.VerifiedHTTPSConnection object at 0x7f1d67557240>: Failed to establish a new connection: [Errno -2] Name or service not known',)), remaining retry times: 2\n",
            "2020-08-26 06:08:16,785 - ERROR - downloader - Exception caught when downloading file https://ii.hywly.com/t/5347.jpg, error: HTTPSConnectionPool(host='ii.hywly.com', port=443): Max retries exceeded with url: /t/5347.jpg (Caused by NewConnectionError('<urllib3.connection.VerifiedHTTPSConnection object at 0x7f1d675487b8>: Failed to establish a new connection: [Errno -2] Name or service not known',)), remaining retry times: 1\n",
            "2020-08-26 06:08:16,795 - ERROR - downloader - Exception caught when downloading file https://ii.hywly.com/t/5347.jpg, error: HTTPSConnectionPool(host='ii.hywly.com', port=443): Max retries exceeded with url: /t/5347.jpg (Caused by NewConnectionError('<urllib3.connection.VerifiedHTTPSConnection object at 0x7f1d67548978>: Failed to establish a new connection: [Errno -2] Name or service not known',)), remaining retry times: 0\n",
            "2020-08-26 06:08:17,944 - INFO - downloader - image #5\thttp://imgsrc.baidu.com/forum/w%3D580/sign=989f898f18dfa9ecfd2e561f52d1f754/801a7cda81cb39dbdcb18cc5d9160924aa18300a.jpg\n",
            "2020-08-26 06:08:18,243 - INFO - downloader - image #6\thttps://gitee.com/wqdev/image20190405/raw/master/0510/19050959.jpg\n",
            "2020-08-26 06:08:19,182 - INFO - downloader - image #7\thttps://n.sinaimg.cn/ent/transform/700/w600h900/20190327/NUME-hutwezh0720869.jpg\n",
            "2020-08-26 06:08:19,443 - INFO - downloader - image #8\thttps://i1.hdslb.com/bfs/archive/398faa2f39e3159181fc8f9ee8cf62fcfddbb61f.jpg\n",
            "2020-08-26 06:08:21,416 - ERROR - urllib3.connection - Certificate did not match expected hostname: galerie.nautiljon.com. Certificate: {'subject': ((('commonName', 'nautiljon.com'),),), 'issuer': ((('countryName', 'US'),), (('organizationName', \"Let's Encrypt\"),), (('commonName', \"Let's Encrypt Authority X3\"),)), 'version': 3, 'serialNumber': '03D960DB6DC18BDE3B744D3DE03EC84C6D50', 'notBefore': 'Aug  3 09:12:50 2020 GMT', 'notAfter': 'Nov  1 09:12:50 2020 GMT', 'subjectAltName': (('DNS', 'nautiljon.com'), ('DNS', 'www.nautiljon.com')), 'OCSP': ('http://ocsp.int-x3.letsencrypt.org',), 'caIssuers': ('http://cert.int-x3.letsencrypt.org/',)}\n",
            "2020-08-26 06:08:21,418 - ERROR - downloader - Exception caught when downloading file http://galerie.nautiljon.com/11/18/yamashita_mizuki_884981.jpg, error: HTTPSConnectionPool(host='galerie.nautiljon.com', port=443): Max retries exceeded with url: /11/18/yamashita_mizuki_884981.jpg (Caused by SSLError(CertificateError(\"hostname 'galerie.nautiljon.com' doesn't match either of 'nautiljon.com', 'www.nautiljon.com'\",),)), remaining retry times: 2\n",
            "2020-08-26 06:08:22,781 - ERROR - urllib3.connection - Certificate did not match expected hostname: galerie.nautiljon.com. Certificate: {'subject': ((('commonName', 'nautiljon.com'),),), 'issuer': ((('countryName', 'US'),), (('organizationName', \"Let's Encrypt\"),), (('commonName', \"Let's Encrypt Authority X3\"),)), 'version': 3, 'serialNumber': '03D960DB6DC18BDE3B744D3DE03EC84C6D50', 'notBefore': 'Aug  3 09:12:50 2020 GMT', 'notAfter': 'Nov  1 09:12:50 2020 GMT', 'subjectAltName': (('DNS', 'nautiljon.com'), ('DNS', 'www.nautiljon.com')), 'OCSP': ('http://ocsp.int-x3.letsencrypt.org',), 'caIssuers': ('http://cert.int-x3.letsencrypt.org/',)}\n",
            "2020-08-26 06:08:22,782 - ERROR - downloader - Exception caught when downloading file http://galerie.nautiljon.com/11/18/yamashita_mizuki_884981.jpg, error: HTTPSConnectionPool(host='galerie.nautiljon.com', port=443): Max retries exceeded with url: /11/18/yamashita_mizuki_884981.jpg (Caused by SSLError(CertificateError(\"hostname 'galerie.nautiljon.com' doesn't match either of 'nautiljon.com', 'www.nautiljon.com'\",),)), remaining retry times: 1\n",
            "2020-08-26 06:08:24,098 - ERROR - urllib3.connection - Certificate did not match expected hostname: galerie.nautiljon.com. Certificate: {'subject': ((('commonName', 'nautiljon.com'),),), 'issuer': ((('countryName', 'US'),), (('organizationName', \"Let's Encrypt\"),), (('commonName', \"Let's Encrypt Authority X3\"),)), 'version': 3, 'serialNumber': '03D960DB6DC18BDE3B744D3DE03EC84C6D50', 'notBefore': 'Aug  3 09:12:50 2020 GMT', 'notAfter': 'Nov  1 09:12:50 2020 GMT', 'subjectAltName': (('DNS', 'nautiljon.com'), ('DNS', 'www.nautiljon.com')), 'OCSP': ('http://ocsp.int-x3.letsencrypt.org',), 'caIssuers': ('http://cert.int-x3.letsencrypt.org/',)}\n",
            "2020-08-26 06:08:24,099 - ERROR - downloader - Exception caught when downloading file http://galerie.nautiljon.com/11/18/yamashita_mizuki_884981.jpg, error: HTTPSConnectionPool(host='galerie.nautiljon.com', port=443): Max retries exceeded with url: /11/18/yamashita_mizuki_884981.jpg (Caused by SSLError(CertificateError(\"hostname 'galerie.nautiljon.com' doesn't match either of 'nautiljon.com', 'www.nautiljon.com'\",),)), remaining retry times: 0\n",
            "2020-08-26 06:08:24,631 - INFO - downloader - image #9\thttps://2.bp.blogspot.com/-8x8Z6Kfj9Bo/Wh8yZCRawoI/AAAAAAAADDk/GmTb8gtyN9AIFJp6CHVGqIdCGwFO3WI5gCLcBGAs/s1600/171129i1.jpg\n",
            "2020-08-26 06:08:25,339 - INFO - downloader - image #10\thttps://i.pinimg.com/originals/78/06/17/780617303f0d61cc875fa7bf8d83c55c.jpg\n",
            "2020-08-26 06:08:27,627 - ERROR - downloader - Response status code 403, file https://gss3.bdstatic.com/7Po3dSag_xI4khGkpoWK1HF6hhy/baike/w%3D268%3Bg%3D0/sign=5eae812d42c2d562f208d7ebdf2af7d2/f9198618367adab4ad7b340e86d4b31c8601e4d0.jpg\n",
            "2020-08-26 06:08:27,932 - INFO - downloader - image #11\thttps://i.pinimg.com/originals/6e/28/87/6e2887efcfbc81b4289b03346b703b8f.jpg\n",
            "2020-08-26 06:08:30,482 - INFO - downloader - image #12\thttps://i1.wp.com/atctwn.com/wp-content/uploads/2018/11/%E5%B1%B1%E4%B8%8B%E7%BE%8E%E6%9C%88.jpg\n",
            "2020-08-26 06:08:31,184 - INFO - downloader - image #13\thttp://ww1.sinaimg.cn/mw690/61e74233ly1fnyw55zg9lj20vc18gqj8.jpg\n",
            "2020-08-26 06:08:31,510 - INFO - downloader - image #14\thttps://gitee.com/wqdev/image20190405/raw/master/0510/19050951.jpg\n",
            "2020-08-26 06:08:32,726 - ERROR - downloader - Response status code 403, file https://gss1.bdstatic.com/-vo3dSag_xI4khGkpoWK1HF6hhy/baike/s%3D220/sign=9cc8410c63061d957946303a4bf50a5d/1b4c510fd9f9d72a55902829d92a2834349bbb09.jpg\n",
            "2020-08-26 06:08:33,359 - INFO - downloader - image #15\thttp://s2.dmcdn.net/b9-l7/1280x720-qvj.jpg\n",
            "2020-08-26 06:08:33,651 - INFO - downloader - image #16\thttp://i2.hdslb.com/bfs/archive/416138ba6a62ea284696681ee99d88cbb9ce1f18.jpg\n",
            "2020-08-26 06:08:33,964 - INFO - downloader - image #17\thttps://gitee.com/wqdev/image20190405/raw/master/0510/19050954.jpg\n",
            "2020-08-26 06:08:34,073 - INFO - downloader - image #18\thttps://i2.hdslb.com/bfs/archive/b7100dcb98f1bb52f8121828a1b9f7112616c3b6.jpg\n",
            "2020-08-26 06:08:34,190 - INFO - downloader - image #19\thttp://wx4.sinaimg.cn/wap720/005OQbTzgy1fccn9ywf7aj30zl0kuwhu.jpg\n",
            "2020-08-26 06:08:35,067 - INFO - downloader - image #20\thttps://ww1.sinaimg.cn/mw690/61e74233gy1fnhlmzl6ypj211q1hctub.jpg\n",
            "2020-08-26 06:08:35,223 - INFO - downloader - downloaded images reach max num, thread downloader-001 is ready to exit\n",
            "2020-08-26 06:08:35,225 - INFO - downloader - thread downloader-001 exit\n",
            "2020-08-26 06:08:35,657 - INFO - parser - no more page urls for thread parser-001 to parse\n",
            "2020-08-26 06:08:35,658 - INFO - parser - thread parser-001 exit\n",
            "2020-08-26 06:08:35,833 - INFO - icrawler.crawler - Crawling task done!\n",
            "2020-08-26 06:08:35,847 - INFO - icrawler.crawler - start crawling...\n",
            "2020-08-26 06:08:35,848 - INFO - icrawler.crawler - starting 1 feeder threads...\n",
            "2020-08-26 06:08:35,851 - INFO - feeder - thread feeder-001 exit\n",
            "2020-08-26 06:08:35,851 - INFO - icrawler.crawler - starting 1 parser threads...\n",
            "2020-08-26 06:08:35,854 - INFO - icrawler.crawler - starting 1 downloader threads...\n",
            "2020-08-26 06:08:36,365 - INFO - parser - parsing result page https://www.bing.com/images/async?q=橋本環奈&first=0\n",
            "2020-08-26 06:08:37,464 - INFO - downloader - image #1\thttp://cdn.media.worldjournal.com/wp-content/uploads/2017/02/2017022015313614_70287.jpg\n",
            "2020-08-26 06:08:37,629 - INFO - downloader - image #2\thttps://image.gameapps.hk/images/201902/11/WW4.jpg\n",
            "2020-08-26 06:08:37,929 - INFO - downloader - image #3\thttps://tvax2.sinaimg.cn/crop.0.0.512.512.180/0065sSlvly8fsyyca96q1j30e80e8wf2.jpg\n",
            "2020-08-26 06:08:38,046 - INFO - downloader - image #4\thttp://img.chinatimes.com/newsphoto/2016-10-29/656/20161029003064.jpg\n",
            "2020-08-26 06:08:38,111 - INFO - downloader - image #5\thttp://img.ltn.com.tw/Upload/ent/page/800/2017/11/16/2255025_1.jpg\n",
            "2020-08-26 06:08:38,144 - INFO - downloader - image #6\thttps://i.ytimg.com/vi/jhy5Fb_Y9Hk/maxresdefault.jpg\n",
            "2020-08-26 06:08:38,508 - INFO - downloader - image #7\thttps://www.teepr.com/wp-content/uploads/2018/02/橋本環奈.jpg\n",
            "2020-08-26 06:08:38,942 - INFO - downloader - image #8\thttp://s.nownews.com/8d/4a/8d4a86dbc76884808fa709de4132bb33.jpg\n",
            "2020-08-26 06:08:39,043 - INFO - downloader - image #9\thttps://ttshow.tw/media/uploads/2019/04/19/54511239_2363877613622495_7263639563087819625_n.jpg\n",
            "2020-08-26 06:08:39,625 - INFO - downloader - image #10\thttp://image.gameapps.hk/images/201501/07/SDD1.jpg\n",
            "2020-08-26 06:08:39,826 - INFO - downloader - image #11\thttps://pbs.twimg.com/media/DBohxUfUMAES_y9.jpg\n",
            "2020-08-26 06:08:40,474 - ERROR - downloader - Response status code 404, file https://upload.wikimedia.org/wikipedia/commons/thumb/2/25/Hashimoto_Kanna_at_Opening_Ceremony_of_the_Tokyo_International_Film_Festival_2017_%2840203933001%29_%28cropped%29.jpg\n",
            "2020-08-26 06:08:40,615 - INFO - downloader - image #12\thttps://images.gamme.com.tw/news2/2019/00/43/pZyVpaaVk6aZqA.jpg\n",
            "2020-08-26 06:08:40,629 - INFO - downloader - image #13\thttps://i.ytimg.com/vi/9j23Fg6E1f8/maxresdefault.jpg\n",
            "2020-08-26 06:08:43,103 - INFO - downloader - image #14\thttps://static.juksy.com/files/articles/52893/5707200eccfe6.jpg\n",
            "2020-08-26 06:08:43,368 - INFO - downloader - image #15\thttps://media.cyberctm.com/uploads/images/news_4/2018-01/04908d61b3c13c4161d8ee4be44ae79a.jpg\n",
            "2020-08-26 06:08:43,444 - INFO - downloader - image #16\thttps://cdn2.ettoday.net/images/997/997935.jpg\n",
            "2020-08-26 06:08:43,564 - INFO - downloader - image #17\thttp://pic.pimg.tw/sarshi1223/1433864394-3508726340_n.jpg\n",
            "2020-08-26 06:08:43,601 - INFO - downloader - image #18\thttps://cdn2.ettoday.net/images/2886/d2886379.jpg\n",
            "2020-08-26 06:08:43,620 - INFO - downloader - image #19\thttps://i.ytimg.com/vi/i5xenmHhB6k/maxresdefault.jpg\n",
            "2020-08-26 06:08:43,971 - INFO - downloader - image #20\thttp://s.nownews.com/fa/c4/fac4eec49fd8e15ace03f57138d93b71.jpg\n",
            "2020-08-26 06:08:44,826 - INFO - downloader - downloaded images reach max num, thread downloader-001 is ready to exit\n",
            "2020-08-26 06:08:44,827 - INFO - downloader - thread downloader-001 exit\n",
            "2020-08-26 06:08:44,867 - INFO - icrawler.crawler - Crawling task done!\n",
            "2020-08-26 06:08:44,869 - INFO - icrawler.crawler - start crawling...\n",
            "2020-08-26 06:08:44,869 - INFO - icrawler.crawler - starting 1 feeder threads...\n",
            "2020-08-26 06:08:44,874 - INFO - feeder - thread feeder-001 exit\n",
            "2020-08-26 06:08:44,875 - INFO - icrawler.crawler - starting 1 parser threads...\n",
            "2020-08-26 06:08:44,879 - INFO - icrawler.crawler - starting 1 downloader threads...\n",
            "2020-08-26 06:08:44,982 - INFO - parser - downloaded image reached max num, thread parser-001 is ready to exit\n",
            "2020-08-26 06:08:44,983 - INFO - parser - thread parser-001 exit\n",
            "2020-08-26 06:08:45,214 - INFO - parser - parsing result page https://www.bing.com/images/async?q=白石麻衣&first=0\n",
            "2020-08-26 06:08:46,909 - INFO - downloader - image #1\thttps://uploadfile.bizhizu.cn/2016/0121/20160121110803220.jpg\n",
            "2020-08-26 06:08:52,317 - INFO - downloader - image #2\thttp://www.ukutu.cn/upload/201601/11/2016011109460963.jpg\n",
            "2020-08-26 06:08:52,993 - INFO - downloader - image #3\thttp://www.ukutu.cn/upload/201601/11/2016011109463999.jpg\n",
            "2020-08-26 06:08:53,789 - INFO - downloader - image #4\thttp://i6.qhimg.com/t01b19448655556396f.jpg\n",
            "2020-08-26 06:08:54,169 - INFO - downloader - image #5\thttp://www.snh0048.com/uploads/allimg/141212/1-14121222053VU.jpg\n",
            "2020-08-26 06:08:54,469 - INFO - downloader - image #6\thttps://ww1.sinaimg.cn/mw690/007kZ47kgy1fy2223h3dtj31jk24dkjn.jpg\n",
            "2020-08-26 06:08:54,816 - INFO - downloader - image #7\thttps://wx1.sinaimg.cn/large/d87b5e24ly1fd2xdr4fewj21kw2384qp.jpg\n",
            "2020-08-26 06:08:56,061 - INFO - downloader - image #8\thttp://i0.sinaimg.cn/dy/slidenews/4_img/2016_03/704_1835915_445414.jpg\n",
            "2020-08-26 06:08:56,257 - INFO - downloader - image #9\thttp://cnews.chinadaily.com.cn/img/attachement/jpg/site1/20170505/bc305bcee6d91a7634ae1b.jpg\n",
            "2020-08-26 06:08:56,650 - INFO - downloader - image #10\thttps://wx3.sinaimg.cn/mw1024/4a551b97ly1flsb6b5araj215o1hcai6.jpg\n",
            "2020-08-26 06:08:56,679 - ERROR - downloader - Exception caught when downloading file http://www.applegirl.tokyo/wp-content/uploads/2018/01/FRIDAY-2018年1月5白石麻衣4.jpg, error: HTTPConnectionPool(host='www.applegirl.tokyo', port=80): Max retries exceeded with url: /wp-content/uploads/2018/01/FRIDAY-2018%E5%B9%B41%E6%9C%885%E7%99%BD%E7%9F%B3%E9%BA%BB%E8%A1%A34.jpg (Caused by NewConnectionError('<urllib3.connection.HTTPConnection object at 0x7f1d66c6b2e8>: Failed to establish a new connection: [Errno -2] Name or service not known',)), remaining retry times: 2\n",
            "2020-08-26 06:08:56,688 - ERROR - downloader - Exception caught when downloading file http://www.applegirl.tokyo/wp-content/uploads/2018/01/FRIDAY-2018年1月5白石麻衣4.jpg, error: HTTPConnectionPool(host='www.applegirl.tokyo', port=80): Max retries exceeded with url: /wp-content/uploads/2018/01/FRIDAY-2018%E5%B9%B41%E6%9C%885%E7%99%BD%E7%9F%B3%E9%BA%BB%E8%A1%A34.jpg (Caused by NewConnectionError('<urllib3.connection.HTTPConnection object at 0x7f1d66c66390>: Failed to establish a new connection: [Errno -2] Name or service not known',)), remaining retry times: 1\n",
            "2020-08-26 06:08:56,695 - ERROR - downloader - Exception caught when downloading file http://www.applegirl.tokyo/wp-content/uploads/2018/01/FRIDAY-2018年1月5白石麻衣4.jpg, error: HTTPConnectionPool(host='www.applegirl.tokyo', port=80): Max retries exceeded with url: /wp-content/uploads/2018/01/FRIDAY-2018%E5%B9%B41%E6%9C%885%E7%99%BD%E7%9F%B3%E9%BA%BB%E8%A1%A34.jpg (Caused by NewConnectionError('<urllib3.connection.HTTPConnection object at 0x7f1d66c66940>: Failed to establish a new connection: [Errno -2] Name or service not known',)), remaining retry times: 0\n",
            "2020-08-26 06:08:57,447 - INFO - downloader - image #11\thttp://www.ukutu.cn/upload/201601/11/2016011109460041.jpg\n",
            "2020-08-26 06:08:59,796 - INFO - downloader - image #12\thttps://up.enterdesk.com/edpic_source/d8/e7/b6/d8e7b6b0c6e42792c5489af885b84075.jpg\n",
            "2020-08-26 06:08:59,928 - INFO - downloader - image #13\thttps://www.nikkansports.com/entertainment/news/img/201804120000973-nsogp_0.jpg\n",
            "2020-08-26 06:08:59,953 - INFO - downloader - image #14\thttps://uploadfile.bizhizu.cn/up/5d/fb/67/5dfb67ea8775a5dd1d41f3a9125554d1.jpg\n",
            "2020-08-26 06:09:00,244 - INFO - downloader - image #15\thttps://n.sinaimg.cn/translate/20170615/0fQx-fyhfxph0449866.jpg\n",
            "2020-08-26 06:09:00,586 - INFO - downloader - image #16\thttp://222.186.12.239:10010/ssw_151208/007.jpg\n",
            "2020-08-26 06:09:00,947 - INFO - downloader - image #17\thttp://wx3.sinaimg.cn/large/69a2b902ly1fvcurwmaylj20p00x644n.jpg\n",
            "2020-08-26 06:09:01,412 - INFO - downloader - image #18\thttp://wx2.sinaimg.cn/large/69a2b902ly1fvcuru6xfkj20p00x6jxr.jpg\n",
            "2020-08-26 06:09:01,517 - INFO - downloader - image #19\thttp://www.snh0048.com/uploads/allimg/151030/1-151030200R09E.jpg\n",
            "2020-08-26 06:09:02,079 - INFO - downloader - image #20\thttps://up.enterdesk.com/edpic_source/27/ae/ae/27aeaea6e9d9c486fb3988fa41cf9125.jpg\n",
            "2020-08-26 06:09:02,594 - INFO - parser - no more page urls for thread parser-001 to parse\n",
            "2020-08-26 06:09:02,595 - INFO - parser - thread parser-001 exit\n",
            "2020-08-26 06:09:03,973 - INFO - downloader - downloaded images reach max num, thread downloader-001 is ready to exit\n",
            "2020-08-26 06:09:03,974 - INFO - downloader - thread downloader-001 exit\n",
            "2020-08-26 06:09:04,907 - INFO - icrawler.crawler - Crawling task done!\n"
          ],
          "name": "stderr"
        }
      ]
    },
    {
      "cell_type": "code",
      "metadata": {
        "id": "LUvbB5U5YUsV",
        "colab_type": "code",
        "colab": {}
      },
      "source": [
        ""
      ],
      "execution_count": null,
      "outputs": []
    }
  ]
}